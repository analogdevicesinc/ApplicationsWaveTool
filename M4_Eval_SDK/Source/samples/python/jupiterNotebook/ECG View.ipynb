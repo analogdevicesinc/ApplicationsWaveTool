{
 "cells": [
  {
   "cell_type": "markdown",
   "metadata": {},
   "source": [
    "# <font color='gray'> ECG View for gen3_sdk</font>\n",
    "\n"
   ]
  },
  {
   "cell_type": "markdown",
   "metadata": {},
   "source": [
    "<font color='gray'>Import the gen3_sdk library from the path and import all the dependancies that are going to be used in the project like serial library for connection, matplotlib for plotting </font>"
   ]
  },
  {
   "cell_type": "code",
   "execution_count": null,
   "metadata": {},
   "outputs": [],
   "source": [
    "import sys,os,serial,threading, time,struct,glob\n",
    "if sys.platform == \"linux\" or sys.platform == \"linux2\":\n",
    "    sys.path.append('./../../../bin/linux/python/')\n",
    "elif sys.platform == \"darwin\":\n",
    "    sys.path.append('./../../../bin/macOS/python/')\n",
    "elif sys.platform == \"win32\":\n",
    "    if ((struct.calcsize(\"P\") * 8) == 64):\n",
    "        sys.path.append('./../../../bin/windows/x64/python/')  # 32 bit python\n",
    "    else:\n",
    "        sys.path.append('./../../../bin/windows/Win32/python/')  # 64 bit python\n",
    "elif sys.platform == \"win64\":\n",
    "    sys.path.append('./../../../bin/windows/x64/python/')\n",
    "import gen3_sdk\n",
    "import matplotlib.pyplot as plt\n",
    "%matplotlib inline\n",
    "%config InlineBackend.figure_format = 'svg'   # For clarity of graph image\n"
   ]
  },
  {
   "cell_type": "code",
   "execution_count": null,
   "metadata": {},
   "outputs": [],
   "source": [
    "# Status for the command streams\n",
    "dict = {0: 'M2M2_APP_COMMON_STATUS_OK',\n",
    "        1: 'M2M2_APP_COMMON_STATUS_ERROR',\n",
    "        2: 'M2M2_APP_COMMON_STATUS_STREAM_STARTED',\n",
    "        3: 'M2M2_APP_COMMON_STATUS_STREAM_STOPPED',\n",
    "        4: 'M2M2_APP_COMMON_STATUS_STREAM_IN_PROGRESS',\n",
    "        5: 'M2M2_APP_COMMON_STATUS_STREAM_DEACTIVATED',\n",
    "        6: 'M2M2_APP_COMMON_STATUS_STREAM_COUNT_DECREMENT',\n",
    "        7: 'M2M2_APP_COMMON_STATUS_STREAM_NOT_STARTED',\n",
    "        8: 'M2M2_APP_COMMON_STATUS_STREAM_NOT_STOPPED',\n",
    "        9: 'M2M2_APP_COMMON_STATUS_SUBSCRIBER_ADDED',\n",
    "       10: 'ADI_SDK_PACKET_TIMED_OUT'}\n"
   ]
  },
  {
   "cell_type": "markdown",
   "metadata": {},
   "source": [
    "#  <font color='brown'>TX Callback </font>\n",
    "\n",
    " The SDK requires the user provide functions for transmitting to and receiving data from the hardware.\n",
    "\n",
    "Transmission is done via this callback function – which is called by the SDK when data is to be transmitted to the watch.\n",
    "\n",
    "SDK will form the m2m2 packets and will call this API to transmit the data over the physical layer \n"
   ]
  },
  {
   "cell_type": "code",
   "execution_count": null,
   "metadata": {},
   "outputs": [],
   "source": [
    "class serial_tx_cb(gen3_sdk.watch_phy_callback):\n",
    "    def __init__(self, serial_object):\n",
    "        gen3_sdk.watch_phy_callback.__init__(self)\n",
    "        self.serial = serial_object\n",
    "\n",
    "    def call(self, data):\n",
    "        self.serial.write(data)\n",
    "        \n",
    "    def sys_alert_call(self,alert):\n",
    "        print(\"SDK ALERT : {}\".format(dict[alert]))"
   ]
  },
  {
   "cell_type": "markdown",
   "metadata": {},
   "source": [
    "#  <font color='brown'> RX Callback </font>\n",
    "\n",
    "For reception, a thread is generally used to receive data from the physical layer.\n",
    "\n",
    "When the m2m2 packets is fully received from the physical layer, it is dispatched to the SDK."
   ]
  },
  {
   "cell_type": "code",
   "execution_count": null,
   "metadata": {},
   "outputs": [],
   "source": [
    "class serial_rx_cb():\n",
    "    def __init__(self, serial_obj):\n",
    "        self.serial = serial_obj\n",
    "        self.thread_run = True\n",
    "        self.thread_rx = True\n",
    "        self.rx_thread = threading.Thread(target=self.rx_fn)\n",
    "        self.rx_thread.setDaemon(True)\n",
    "        self.rx_thread.start()\n",
    "\n",
    "    def  close(self):\n",
    "        self.thread_run = False\n",
    "        self.thread_rx = False\n",
    "\n",
    "    def rx_fn(self):\n",
    "        while (self.thread_rx):\n",
    "            try:\n",
    "                hdr = ser.read(8)\n",
    "                if (hdr) :\n",
    "                    length = (hdr[4] << 8) + (hdr[5])\n",
    "                    #print(length)\n",
    "                    body = ser.read((length ) - 8)\n",
    "                    pkt = hdr + body\n",
    "                    active_watch.dispatch(pkt)\n",
    "            except serial.SerialException as e:\n",
    "                print(e)\n",
    "\n",
    "    def thread_start(self):\n",
    "        self.serial_rx_thread.start()"
   ]
  },
  {
   "cell_type": "markdown",
   "metadata": {},
   "source": [
    "#  <font color='brown'> Serial Connection</font>\n",
    "\n",
    "User need to connect the VSM watch with our system for communication\n",
    "\n",
    "So here we list down the number of serial ports that are available for connection.\n",
    "\n",
    "Enter the correct serial port of the watch for communication.\n"
   ]
  },
  {
   "cell_type": "code",
   "execution_count": null,
   "metadata": {},
   "outputs": [],
   "source": [
    "# Find a list of available serial ports\n",
    "ser = serial.Serial()\n",
    "result = []\n",
    "if sys.platform.startswith('win'):\n",
    "    ports = ['COM%s' % (i + 1) for i in range(256)]\n",
    "elif sys.platform.startswith('linux') or sys.platform.startswith('cygwin'):\n",
    "    # this excludes your current terminal \"/dev/tty\"\n",
    "    ports = glob.glob('/dev/tty[A-Za-z]*')\n",
    "elif sys.platform.startswith('darwin'):\n",
    "    ports = glob.glob('/dev/tty.*')\n",
    "else:\n",
    "    raise EnvironmentError('Unsupported platform')\n",
    "for port in ports:\n",
    "    try:\n",
    "        s = serial.Serial(port)\n",
    "        s.close()\n",
    "        result.append(port)\n",
    "    except (OSError, serial.SerialException):\n",
    "        pass\n",
    "\n",
    "print(\"Available serial ports are:\")\n",
    "for p in result:\n",
    "    print(\"==> {}\".format(p))\n",
    "    \n",
    "def connect(arg):\n",
    "    try:\n",
    "        if(ser.isOpen()== True):\n",
    "            print(\"Port Already Connected,Please disconnect and try again\")\n",
    "\n",
    "        print('Connecting to Motherboard...')\n",
    "        ser.baudrate =921600\n",
    "        ser.port = arg\n",
    "        ser.open()\n",
    "        print('Connected to Motherboard: ' + ser.port)\n",
    "\n",
    "    except serial.serialutil.SerialException as e:\n",
    "        print(\"Error opening the serial device!\")\n",
    "        print(\"The port might be already selected,or have given an incorrect serial device identifier.\")\n",
    "        print(\"Error was:\\n\\t{}\".format(e))\n",
    "        return\n",
    "    \n",
    "if sys.platform.startswith('win'):\n",
    "    port = input(\"Enter the port (ex COM30) and press Enter: \")\n",
    "elif sys.platform.startswith('linux') or sys.platform.startswith('cygwin'):\n",
    "    # this excludes your current terminal \"/dev/tty\"\n",
    "    port = input(\"Enter the port (ex /dev/tty.usbserial-DM3HUW9M) and press Enter: \")\n",
    "elif sys.platform.startswith('darwin'):\n",
    "    port = input(\"Enter the port (ex /dev/tty.usbserial-DM3HUW9M) and press Enter: \")\n",
    "else:\n",
    "    raise EnvironmentError('Unsupported platform')\n",
    "connect(port)\n",
    "rx_cb = serial_rx_cb(ser)"
   ]
  },
  {
   "cell_type": "markdown",
   "metadata": {},
   "source": [
    "#  <font color='brown'> Creating SDK instance</font>\n",
    "\n",
    "Create an instance for the watch class with passing the transmission callback through the function.\n",
    "\n",
    "Then set the platform of the watch to python"
   ]
  },
  {
   "cell_type": "code",
   "execution_count": null,
   "metadata": {},
   "outputs": [],
   "source": [
    "active_watch = gen3_sdk.watch(serial_tx_cb(ser).__disown__())\n",
    "active_watch.set_platform(gen3_sdk.watch.python)"
   ]
  },
  {
   "cell_type": "markdown",
   "metadata": {},
   "source": [
    "#  <font color='brown'> ECG Stream Callback</font>\n",
    "\n",
    "SDK will provide the streams in the callback function. \n",
    "\n",
    "So before starting ECG streams, we need to initialize the ecg_cb callback to receive the ECG data streams."
   ]
  },
  {
   "cell_type": "code",
   "execution_count": null,
   "metadata": {},
   "outputs": [],
   "source": [
    "ecg_arr = []\n",
    "class ecg_cb(gen3_sdk.ecg_stream_callback):\n",
    "    def __init__(self):\n",
    "        gen3_sdk.ecg_stream_callback.__init__(self)\n",
    "        ecg_arr = []\n",
    "\n",
    "    def call(self, data, sequence_num):\n",
    "        for d in data:\n",
    "            ecg_arr.append(d.ecg_data)"
   ]
  },
  {
   "cell_type": "markdown",
   "metadata": {},
   "source": [
    "#  <font color='brown'> Commands to start ECG</font>\n",
    "\n",
    "\n",
    "There are two command structure for starting any streams,\n",
    "\n",
    "  1) L1 commands - Each L1 command is mapped to an equivalent M2M2 command\n",
    "        \n",
    "  Ex :<font color='olive'>active_watch.ecg_app.ecg_stream.subscribe(ecg_cb().__disown__())\n",
    "    \n",
    "   active_watch.ad5940_app.start() \n",
    "    \n",
    "   active_watch.ecg_app.ecg_stream.start() </font>\n",
    "                 \n",
    "  2) L2 commands - L2 commands encapsulate a group of L1 commands to make using the API more easier.\n",
    "        \n",
    "  Ex :<font color='olive'> active_watch.start_ecg(ecg_cb().__disown__()) </font>"
   ]
  },
  {
   "cell_type": "code",
   "execution_count": null,
   "metadata": {},
   "outputs": [],
   "source": [
    "\n",
    "t_end = time.time() + 10\n",
    "\n",
    "if(ser.isOpen() == True):\n",
    "        \n",
    "    print(\"ECG stream started\")\n",
    "    \n",
    "    active_watch.start_ecg(ecg_cb().__disown__()) \n",
    "\n",
    "    print(\"Waiting for the samples to be Collected\")\n",
    "    time.sleep(20)\n",
    "\n",
    "    active_watch.stop_ecg()\n",
    "\n",
    "    print(\"ECG stream stopped\")\n",
    "else:\n",
    "    print(\"Serial port is not connected\")\n",
    "\n"
   ]
  },
  {
   "cell_type": "markdown",
   "metadata": {},
   "source": [
    "#  <font color='brown'> Plotting</font>\n",
    "\n",
    "Plotting the ECG data"
   ]
  },
  {
   "cell_type": "code",
   "execution_count": null,
   "metadata": {},
   "outputs": [],
   "source": [
    "\n",
    "samples_ecg= []\n",
    "for index in range(len(ecg_arr)):\n",
    "    samples_ecg.append(index)\n",
    "        \n",
    "#########################__PLOTTING_FOR_ECG__####################\n",
    "plt.plot(samples_ecg,ecg_arr,label = \"ECG\", color = \"red\")\n",
    "plt.title('ECG')\n",
    "plt.ylabel('amplitude')\n",
    "plt.xlabel('Samples')\n",
    "plt.legend()\n",
    "plt.legend(bbox_to_anchor=(1.05, 1), loc=2, borderaxespad=0.)\n",
    "plt.show()\n",
    "        "
   ]
  },
  {
   "cell_type": "markdown",
   "metadata": {},
   "source": [
    "#  <font color='brown'> Disconnect</font>\n",
    "\n",
    "Disconnect the serial port and stop the receiver thread."
   ]
  },
  {
   "cell_type": "code",
   "execution_count": null,
   "metadata": {},
   "outputs": [],
   "source": [
    "rx_cb.close()\n",
    "ser.close()\n",
    "print(\"Disconnected\")"
   ]
  }
 ],
 "metadata": {
  "kernelspec": {
   "display_name": "Python 3",
   "language": "python",
   "name": "python3"
  },
  "language_info": {
   "codemirror_mode": {
    "name": "ipython",
    "version": 3
   },
   "file_extension": ".py",
   "mimetype": "text/x-python",
   "name": "python",
   "nbconvert_exporter": "python",
   "pygments_lexer": "ipython3",
   "version": "3.7.0"
  }
 },
 "nbformat": 4,
 "nbformat_minor": 2
}
