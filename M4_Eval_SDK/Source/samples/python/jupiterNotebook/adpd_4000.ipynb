{
 "cells": [
  {
   "cell_type": "markdown",
   "metadata": {},
   "source": [
    "# <font color='gray'> How to get data of adpd4000 using gen3_sdk</font>\n",
    "\n"
   ]
  },
  {
   "cell_type": "markdown",
   "metadata": {},
   "source": [
    "<font color='gray'>Import the gen3_sdk library from the path and import all the dependancies that are going to be used in the project like serial library for connection, matplotlib for plotting </font>"
   ]
  },
  {
   "cell_type": "code",
   "execution_count": null,
   "metadata": {},
   "outputs": [],
   "source": [
    "import sys,os,serial,threading, time,struct,glob\n",
    "if sys.platform == \"linux\" or sys.platform == \"linux2\":\n",
    "    sys.path.append('./../../../bin/linux/python/')\n",
    "elif sys.platform == \"darwin\":\n",
    "    sys.path.append('./../../../bin/macOS/python/')\n",
    "elif sys.platform == \"win32\":\n",
    "    if ((struct.calcsize(\"P\") * 8) == 64):\n",
    "        sys.path.append('./../../../bin/windows/x64/python/')  # 32 bit python\n",
    "    else:\n",
    "        sys.path.append('./../../../bin/windows/Win32/python/')  # 64 bit python\n",
    "elif sys.platform == \"win64\":\n",
    "    sys.path.append('./../../../bin/windows/x64/python/')\n",
    "import gen3_sdk\n",
    "import matplotlib.pyplot as plt"
   ]
  },
  {
   "cell_type": "code",
   "execution_count": null,
   "metadata": {},
   "outputs": [],
   "source": [
    "# Status for the command streams\n",
    "dict = {0: 'M2M2_APP_COMMON_STATUS_OK',\n",
    "        1: 'M2M2_APP_COMMON_STATUS_ERROR',\n",
    "        2: 'M2M2_APP_COMMON_STATUS_STREAM_STARTED',\n",
    "        3: 'M2M2_APP_COMMON_STATUS_STREAM_STOPPED',\n",
    "        4: 'M2M2_APP_COMMON_STATUS_STREAM_IN_PROGRESS',\n",
    "        5: 'M2M2_APP_COMMON_STATUS_STREAM_DEACTIVATED',\n",
    "        6: 'M2M2_APP_COMMON_STATUS_STREAM_COUNT_DECREMENT',\n",
    "        7: 'M2M2_APP_COMMON_STATUS_STREAM_NOT_STARTED',\n",
    "        8: 'M2M2_APP_COMMON_STATUS_STREAM_NOT_STOPPED',\n",
    "        9: 'M2M2_APP_COMMON_STATUS_SUBSCRIBER_ADDED',\n",
    "       10: 'ADI_SDK_PACKET_TIMED_OUT'}\n"
   ]
  },
  {
   "cell_type": "markdown",
   "metadata": {},
   "source": [
    "#  <font color='brown'>TX Callback </font>\n",
    "\n",
    " The SDK requires the user provide functions for transmitting to and receiving data from the hardware.\n",
    "\n",
    "Transmission is done via this callback function – which is called by the SDK when data is to be transmitted to the watch.\n",
    "\n",
    "SDK will form the m2m2 packets and will call this API to transmit the data over the physical layer \n"
   ]
  },
  {
   "cell_type": "code",
   "execution_count": null,
   "metadata": {},
   "outputs": [],
   "source": [
    "class serial_tx_cb(gen3_sdk.watch_phy_callback):\n",
    "    def __init__(self, serial_object):\n",
    "        gen3_sdk.watch_phy_callback.__init__(self)\n",
    "        self.serial = serial_object\n",
    "\n",
    "    def call(self, data):\n",
    "        self.serial.write(data)\n",
    "        \n",
    "    def sys_alert_call(self,alert):\n",
    "        print(\"SDK ALERT : {}\".format(dict[alert]))"
   ]
  },
  {
   "cell_type": "markdown",
   "metadata": {},
   "source": [
    "#  <font color='brown'> RX Callback </font>\n",
    "\n",
    "For reception, a thread is generally used to receive data from the physical layer.\n",
    "\n",
    "When the m2m2 packets is fully received from the physical layer, it is dispatched to the SDK."
   ]
  },
  {
   "cell_type": "code",
   "execution_count": null,
   "metadata": {},
   "outputs": [],
   "source": [
    "class serial_rx_cb():\n",
    "    def __init__(self, serial_obj):\n",
    "        self.serial = serial_obj\n",
    "        self.thread_run = True\n",
    "        self.thread_rx = True\n",
    "        self.rx_thread = threading.Thread(target=self.rx_fn)\n",
    "        self.rx_thread.setDaemon(True)\n",
    "        self.rx_thread.start()\n",
    "\n",
    "    def  close(self):\n",
    "        self.thread_run = False\n",
    "        self.thread_rx = False\n",
    "\n",
    "    def rx_fn(self):\n",
    "        while (self.thread_rx):\n",
    "            try:\n",
    "                hdr = ser.read(8)\n",
    "                if (hdr) :\n",
    "                    length = (hdr[4] << 8) + (hdr[5])\n",
    "                    #print(length)\n",
    "                    body = ser.read((length ) - 8)\n",
    "                    pkt = hdr + body\n",
    "                    active_watch.dispatch(pkt)\n",
    "            except serial.SerialException as e:\n",
    "                print(e)\n",
    "\n",
    "    def thread_start(self):\n",
    "        self.serial_rx_thread.start()"
   ]
  },
  {
   "cell_type": "markdown",
   "metadata": {},
   "source": [
    "#  <font color='brown'> Serial Connection</font>\n",
    "\n",
    "User need to connect the VSM watch with our system for communication\n",
    "\n",
    "So here we list down the number of serial ports that are available for connection.\n",
    "\n",
    "Enter the correct serial port of the watch for communication.\n"
   ]
  },
  {
   "cell_type": "code",
   "execution_count": null,
   "metadata": {},
   "outputs": [],
   "source": [
    "# Find a list of available serial ports\n",
    "ser = serial.Serial()\n",
    "result = []\n",
    "if sys.platform.startswith('win'):\n",
    "    ports = ['COM%s' % (i + 1) for i in range(256)]\n",
    "elif sys.platform.startswith('linux') or sys.platform.startswith('cygwin'):\n",
    "    # this excludes your current terminal \"/dev/tty\"\n",
    "    ports = glob.glob('/dev/tty[A-Za-z]*')\n",
    "elif sys.platform.startswith('darwin'):\n",
    "    ports = glob.glob('/dev/tty.*')\n",
    "else:\n",
    "    raise EnvironmentError('Unsupported platform')\n",
    "for port in ports:\n",
    "    try:\n",
    "        s = serial.Serial(port)\n",
    "        s.close()\n",
    "        result.append(port)\n",
    "    except (OSError, serial.SerialException):\n",
    "        pass\n",
    "\n",
    "print(\"Available serial ports are:\")\n",
    "for p in result:\n",
    "    print(\"==> {}\".format(p))\n",
    "    \n",
    "def connect(arg):\n",
    "    try:\n",
    "        if(ser.isOpen()== True):\n",
    "            print(\"Port Already Connected,Please disconnect and try again\")\n",
    "\n",
    "        print('Connecting to Motherboard...')\n",
    "        ser.baudrate =921600\n",
    "        ser.port = arg\n",
    "        ser.open()\n",
    "        print('Connected to Motherboard: ' + ser.port)\n",
    "\n",
    "    except serial.serialutil.SerialException as e:\n",
    "        print(\"Error opening the serial device!\")\n",
    "        print(\"The port might be already selected,or have given an incorrect serial device identifier.\")\n",
    "        print(\"Error was:\\n\\t{}\".format(e))\n",
    "        return\n",
    "    \n",
    "if sys.platform.startswith('win'):\n",
    "    port = input(\"Enter the port (ex COM30) and press Enter: \")\n",
    "elif sys.platform.startswith('linux') or sys.platform.startswith('cygwin'):\n",
    "    # this excludes your current terminal \"/dev/tty\"\n",
    "    port = input(\"Enter the port (ex /dev/tty.usbserial-DM3HUW9M) and press Enter: \")\n",
    "elif sys.platform.startswith('darwin'):\n",
    "    port = input(\"Enter the port (ex /dev/tty.usbserial-DM3HUW9M) and press Enter: \")\n",
    "else:\n",
    "    raise EnvironmentError('Unsupported platform')\n",
    "connect(port)\n",
    "rx_cb = serial_rx_cb(ser)"
   ]
  },
  {
   "cell_type": "markdown",
   "metadata": {},
   "source": [
    "#  <font color='brown'> Creating SDK instance</font>\n",
    "\n",
    "Create an instance for the watch class with passing the transmission callback through the function.\n",
    "\n",
    "Then set the platform of the watch to python"
   ]
  },
  {
   "cell_type": "code",
   "execution_count": null,
   "metadata": {},
   "outputs": [],
   "source": [
    "active_watch = gen3_sdk.watch(serial_tx_cb(ser).__disown__())\n",
    "active_watch.set_platform(gen3_sdk.watch.python)"
   ]
  },
  {
   "cell_type": "markdown",
   "metadata": {},
   "source": [
    "#  <font color='brown'> ADPD4000 Stream</font>\n",
    "\n",
    "SDK will provide the streams in the callback function. \n",
    "\n",
    "So before starting adpd4000 streams, we need to initialize the adpd4000_cb callback to receive the adpd4000 data streams. "
   ]
  },
  {
   "cell_type": "code",
   "execution_count": null,
   "metadata": {},
   "outputs": [],
   "source": [
    "#array to store the dark and signal values for ADPD4000 streams\n",
    "adpd_arr = []\n",
    "\n",
    "class adpd4000_cb(gen3_sdk.adpd4000_stream_callback):\n",
    "    def __init__(self):\n",
    "        gen3_sdk.adpd4000_stream_callback.__init__(self)\n",
    "        self.seq_num = None\n",
    "        adpd_arr.clear()\n",
    "   \n",
    "    def call(self, data, sequence_num):\n",
    "        for d in data:\n",
    "            adpd_s_arr = []\n",
    "            adpd_d_arr = []\n",
    "            if d.channel_num == 1:\n",
    "                for y in range(0, d.adpddata_s.size()):\n",
    "                    adpd_s_arr.append(d.adpddata_s[y])\n",
    "                for y in range(0, d.adpddata_d.size()):\n",
    "                    adpd_d_arr.append(d.adpddata_d[y])\n",
    "                    \n",
    "                adpd_arr.append([d.adpd_stream,d.channel_num,adpd_s_arr,adpd_d_arr])\n",
    "\n",
    "            else:\n",
    "                for y in range(0, d.adpddata_s.size()):\n",
    "                    adpd_s_arr.append(d.adpddata_s[y])\n",
    "                   \n",
    "                for y in range(0, d.adpddata_d.size()):\n",
    "                    adpd_d_arr.append(d.adpddata_d[y])    \n",
    "                    \n",
    "                adpd_arr.append([d.adpd_stream,d.channel_num,adpd_s_arr,adpd_d_arr])\n",
    "                \n",
    "######################################################################################\n",
    "\n",
    "#Split the adpd4000 stream array to signal, dark arrays separately\n",
    "#s1 - signal array value for channel 1\n",
    "#d1 - dark array value for channel 1\n",
    "#s2 - signal array value for channel 2\n",
    "#d2 - dark array value for channel 2\n",
    "#return the values based on the input of source\n",
    "\n",
    "def deserialize_adpd4000(source):\n",
    "    s1 = []\n",
    "    d1 = []\n",
    "    s2 = []\n",
    "    d2 = []\n",
    "     \n",
    "    for x in adpd_arr:\n",
    "        if x[0] == source:\n",
    "            if (x[1] == 1): \n",
    "                s1 += x[2]\n",
    "                d1 += x[3]\n",
    "            else:\n",
    "                s2 += x[2]\n",
    "                d2 += x[3]\n",
    "    return s1,d1,s2,d2\n"
   ]
  },
  {
   "cell_type": "markdown",
   "metadata": {},
   "source": [
    "#  <font color='brown'> Load configuration</font>\n",
    "\n",
    "Loading the cofiguration for adpd4000 from a dcfg file\n",
    "\n",
    "Read the register address and value from the file.\n",
    "\n",
    "Then will write the address and value through SDK"
   ]
  },
  {
   "cell_type": "code",
   "execution_count": null,
   "metadata": {},
   "outputs": [],
   "source": [
    "import string\n",
    "\n",
    "def LoadCfg(filename):\n",
    "    line_number = 0;\n",
    "    with open(filename) as file:\n",
    "        for line in file:\n",
    "            line_number = line_number + 1\n",
    "            line = line.rstrip();\n",
    "            line = line.lstrip();\n",
    "            line = line[:line.find('#')]\n",
    "            if (len(line) != 0):\n",
    "                reg_addr_pair = line.split(' ')\n",
    "                if (len(reg_addr_pair) < 2):\n",
    "                    print (\"Error read config file: {0}\", filename)\n",
    "                    raise Exception('LoadCfgV1: {}'.format(line_number, line))\n",
    "                    return None #Is this needed?\n",
    "                reg_op = []\n",
    "                reg_op.append([int(reg_addr_pair[0], 16), int(reg_addr_pair[1], 16)])\n",
    "                ret = active_watch.adpd4000_app.register_write(reg_op)\n",
    "                \n",
    "#Uncomment the below codes to print the address and value that was written by the SDK\n",
    "\n",
    "#                 for i in ret:\n",
    "#                     print(\"address: {} value: {}\".format(hex(i[0]), hex(i[1])))\n",
    "                    \n"
   ]
  },
  {
   "cell_type": "markdown",
   "metadata": {},
   "source": [
    "#  <font color='brown'> Commands to start the adpd4000 stream.</font>\n",
    "\n",
    "There are two command structure for starting any streams,\n",
    "\n",
    "  1) L1 commands - Each L1 command is mapped to an equivalent M2M2 command\n",
    "        \n",
    "  Ex :<font color='olive'>active_watch.adpd4000_app.adpd4000_stream1.subscribe(adpd4000_cb().__disown__())\n",
    "    \n",
    "   active_watch.adpd4000_app.adpd4000_stream1.start() </font>\n",
    "                 \n",
    "  2) L2 commands - L2 commands encapsulate a group of L1 commands to make using the API more easier.\n",
    "        \n",
    "  Ex :<font color='olive'> active_watch.start_adpd4000(adpd4000_cb().__disown__()) </font>\n"
   ]
  },
  {
   "cell_type": "code",
   "execution_count": null,
   "metadata": {},
   "outputs": [],
   "source": [
    "if(ser.isOpen()== True):   \n",
    "    \n",
    "    LoadCfg('config/ADPD4000_defaultA.DCFG')\n",
    "    \n",
    "    active_watch.start_adpd4000(adpd4000_cb().__disown__()) \n",
    "    print(\"ADPD4000 stream started\\nWait for the samples to be collected\")\n",
    "    \n",
    "    time.sleep(5)\n",
    "    \n",
    "    active_watch.stop_adpd4000()\n",
    "    print(\"ADPD4000 stream stopped\")\n",
    "else:\n",
    "    print(\"Serial port is not connected\")\n"
   ]
  },
  {
   "cell_type": "markdown",
   "metadata": {},
   "source": [
    "#  <font color='brown'> Plotting ADPD4000 stream</font>\n",
    "\n",
    "Plot the dark and signal for the ADPD4000 stream 1."
   ]
  },
  {
   "cell_type": "code",
   "execution_count": null,
   "metadata": {
    "scrolled": true
   },
   "outputs": [],
   "source": [
    "#############################################################\n",
    "##############    Plotting for stream1   ####################\n",
    "#############################################################\n",
    "stream1_data = deserialize_adpd4000(1)\n",
    "\n",
    "samples_s1 = []\n",
    "for index in range(len(stream1_data[0])):\n",
    "    samples_s1.append(index)\n",
    "samples_s2 = []\n",
    "for index in range(len(stream1_data[2])):\n",
    "    samples_s2.append(index)\n",
    "samples_d1 = []\n",
    "for index in range(len(stream1_data[1])):\n",
    "    samples_d1.append(index)\n",
    "samples_d2 = []\n",
    "for index in range(len(stream1_data[3])):\n",
    "    samples_d2.append(index)\n",
    "\n",
    "#Plotting for adpd4000 dark\n",
    "plt.plot(samples_d1,stream1_data[1],label = \"adpd_d1\", color = \"blue\")\n",
    "plt.plot(samples_d2,stream1_data[3],label = \"adpd_d2\", color = \"purple\")\n",
    "\n",
    "#Plotting for adpd4000 signal\n",
    "plt.plot(samples_s1,stream1_data[0],label = \"adpd_s1\", color = \"red\")\n",
    "plt.plot(samples_s2,stream1_data[2],label = \"adpd_s2\", color = \"orange\")\n",
    "\n",
    "#############################################################\n",
    "##############    Plotting for stream2   ####################\n",
    "#############################################################\n",
    "# stream2_data = deserialize_adpd4000(2)\n",
    "\n",
    "# samples_s1 = []\n",
    "# for index in range(len(stream2_data[0])):\n",
    "#     samples_s1.append(index)\n",
    "# samples_s2 = []\n",
    "# for index in range(len(stream2_data[2])):\n",
    "#     samples_s2.append(index)\n",
    "# samples_d1 = []\n",
    "# for index in range(len(stream2_data[1])):\n",
    "#     samples_d1.append(index)\n",
    "# samples_d2 = []\n",
    "# for index in range(len(stream2_data[3])):\n",
    "#     samples_d2.append(index)\n",
    "    \n",
    "# # Plotting for adpd4000 dark\n",
    "# plt.plot(samples_d1,stream2_data[1],label = \"stream2_d1\", color = \"olive\")\n",
    "# plt.plot(samples_d2,stream2_data[3],label = \"stream2_d2\", color = \"gray\")\n",
    "\n",
    "# # Plotting for adpd4000 signal\n",
    "# plt.plot(samples_s1,stream2_data[0],label = \"stream2_s1\", color = \"green\")\n",
    "# plt.plot(samples_s2,stream2_data[2],label = \"stream2_s2\", color = \"brown\")\n",
    "\n",
    "######################################################################\n",
    "\n",
    "#Set graph properties \n",
    "plt.title('ADPD4000 Stream')\n",
    "plt.ylabel('amplitude')\n",
    "plt.xlabel('Samples')\n",
    "plt.legend()\n",
    "plt.legend(bbox_to_anchor=(1.05, 1), loc=2, borderaxespad=0.)\n",
    "plt.show()\n",
    "\n"
   ]
  },
  {
   "cell_type": "markdown",
   "metadata": {},
   "source": [
    "#  <font color='brown'> Disconnect</font>\n",
    "\n",
    "Disconnect the serial port and stop the receiver thread."
   ]
  },
  {
   "cell_type": "code",
   "execution_count": null,
   "metadata": {},
   "outputs": [],
   "source": [
    "rx_cb.close()\n",
    "ser.close()"
   ]
  }
 ],
 "metadata": {
  "kernelspec": {
   "display_name": "Python 3",
   "language": "python",
   "name": "python3"
  },
  "language_info": {
   "codemirror_mode": {
    "name": "ipython",
    "version": 3
   },
   "file_extension": ".py",
   "mimetype": "text/x-python",
   "name": "python",
   "nbconvert_exporter": "python",
   "pygments_lexer": "ipython3",
   "version": "3.7.0"
  }
 },
 "nbformat": 4,
 "nbformat_minor": 2
}
